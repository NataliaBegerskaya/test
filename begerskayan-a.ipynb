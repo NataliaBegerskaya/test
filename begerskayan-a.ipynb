import sqlite3
import pandas as pd
import os

# Путь к файлам с данными
sample_data = "sample_data"

# Название базы данных
db_name = "historical_data.db"

# Создание базы данных, если её ещё нет
if not os.path.exists(db_name):
    conn = sqlite3.connect(db_name)
    conn.close()

# Соединение с базой данных
conn = sqlite3.connect(db_name)

# Получение списка файлов с данными

files = os.listdir(sample_data)

# Загрузка данных из каждого файла и добавление их в базу данных
for file in files:
  if file.endswith(".xlsx"):
    # Чтение данных из файла
    try:
      df = pd.read_excel(os.path.join(sample_data, file))
      df['open'] = pd.to_numeric(df['open'], errors="coerce")
      df['high'] = pd.to_numeric(df['high'], errors="coerce")
      df['low'] = pd.to_numeric(df['low'], errors="coerce")
      df['close'] = pd.to_numeric(df['close'], errors="coerce")
      df['volume'] = pd.to_numeric(df['volume'], errors="coerce")
      # Очистка данных от ошибок и пустых значений
      df = df.dropna(how="any")
      df.to_sql('historical_data', conn, if_exists='append', index=False)
    except Exception as e:
      print(f"Ошибка чтения файла {file}: {e}")

# Сохранение изменений в базе данных
conn.commit()

# Закрытие соединения с базой данных
conn.close()
